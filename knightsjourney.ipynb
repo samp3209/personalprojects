{
  "nbformat": 4,
  "nbformat_minor": 0,
  "metadata": {
    "colab": {
      "provenance": [],
      "authorship_tag": "ABX9TyOk1cMVQvDnr01VWxiF14zH",
      "include_colab_link": true
    },
    "kernelspec": {
      "name": "python3",
      "display_name": "Python 3"
    },
    "language_info": {
      "name": "python"
    }
  },
  "cells": [
    {
      "cell_type": "markdown",
      "metadata": {
        "id": "view-in-github",
        "colab_type": "text"
      },
      "source": [
        "<a href=\"https://colab.research.google.com/github/samp3209/personalprojects/blob/main/knightsjourney.ipynb\" target=\"_parent\"><img src=\"https://colab.research.google.com/assets/colab-badge.svg\" alt=\"Open In Colab\"/></a>"
      ]
    },
    {
      "cell_type": "code",
      "execution_count": 2,
      "metadata": {
        "id": "6He_GOdKC6C2"
      },
      "outputs": [],
      "source": [
        "from PIL import Image, ImageDraw\n",
        "\n",
        "class ChessBoard:\n",
        "    def __init__(self, square_size=50):\n",
        "        self.square_size = square_size\n",
        "        self.image_size = 8 * square_size\n",
        "        self.image = Image.new(\"RGB\", (self.image_size, self.image_size), \"white\")\n",
        "        self.draw = ImageDraw.Draw(self.image)\n",
        "        self.knight_position = (0, 7)  # Initial position\n",
        "\n",
        "    def create_empty_board(self):\n",
        "        # Draw the squares\n",
        "        for row in range(8):\n",
        "            for col in range(8):\n",
        "                if (row + col) % 2 == 1:\n",
        "                    self.draw.rectangle(\n",
        "                        [col * self.square_size, row * self.square_size,\n",
        "                         (col + 1) * self.square_size, (row + 1) * self.square_size],\n",
        "                        fill=\"black\"\n",
        "                    )\n",
        "\n",
        "    def add_knight(self):\n",
        "        # Draw the knight (assuming the knight is represented by the letter 'K')\n",
        "        knight_size = int(self.square_size * 0.8)\n",
        "        self.draw.text(\n",
        "            (self.knight_position[0] * self.square_size + self.square_size * 0.1,\n",
        "             self.knight_position[1] * self.square_size + self.square_size * 0.1),\n",
        "            \"K\", fill=\"white\", font=None\n",
        "        )\n",
        "\n",
        "    def display_board(self):\n",
        "        self.create_empty_board()\n",
        "        self.add_knight()\n",
        "        self.image.show()\n",
        "\n",
        "    def move_knight(self, new_position):\n",
        "        self.knight_position = new_position\n",
        "\n",
        "if __name__ == \"__main__\":\n",
        "    chess_board = ChessBoard()\n",
        "    chess_board.display_board()\n",
        "\n",
        "    # Move the knight to a new position (e.g., (2, 5))\n",
        "    new_knight_position = (2, 5)\n",
        "    chess_board.move_knight(new_knight_position)\n",
        "\n",
        "    # Display the updated board\n",
        "    chess_board.display_board()"
      ]
    },
    {
      "cell_type": "code",
      "source": [],
      "metadata": {
        "id": "C_sdht3oDTPy"
      },
      "execution_count": null,
      "outputs": []
    }
  ]
}