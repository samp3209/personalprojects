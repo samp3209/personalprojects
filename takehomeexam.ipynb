{
  "nbformat": 4,
  "nbformat_minor": 0,
  "metadata": {
    "colab": {
      "provenance": [],
      "authorship_tag": "ABX9TyP7BEWhNLdKLjiTpcsLat5d",
      "include_colab_link": true
    },
    "kernelspec": {
      "name": "python3",
      "display_name": "Python 3"
    },
    "language_info": {
      "name": "python"
    }
  },
  "cells": [
    {
      "cell_type": "markdown",
      "metadata": {
        "id": "view-in-github",
        "colab_type": "text"
      },
      "source": [
        "<a href=\"https://colab.research.google.com/github/samp3209/personalprojects/blob/main/takehomeexam.ipynb\" target=\"_parent\"><img src=\"https://colab.research.google.com/assets/colab-badge.svg\" alt=\"Open In Colab\"/></a>"
      ]
    },
    {
      "cell_type": "code",
      "execution_count": 1,
      "metadata": {
        "id": "h7-ou8Gz66cX"
      },
      "outputs": [],
      "source": [
        "import pandas as pd"
      ]
    },
    {
      "cell_type": "code",
      "source": [
        "#med = pd.read_csv('mediaalpha.csv')\n",
        "px = pd.read_csv('px.csv')\n",
        "ringba = pd.read_csv('ringba.csv')\n",
        "sales = pd.read_csv('sales.csv')"
      ],
      "metadata": {
        "id": "XWHUsAJE8KeZ"
      },
      "execution_count": 3,
      "outputs": []
    },
    {
      "cell_type": "code",
      "source": [
        "med = pd.read_csv('mediaalpha - mediaalpha.csv')"
      ],
      "metadata": {
        "id": "u8UqUTiE8i_7"
      },
      "execution_count": 6,
      "outputs": []
    },
    {
      "cell_type": "code",
      "source": [
        "print(px.head(5))\n"
      ],
      "metadata": {
        "colab": {
          "base_uri": "https://localhost:8080/"
        },
        "id": "C46VsR1I8mvd",
        "outputId": "0197080a-9d79-4570-b325-487017d5e55c"
      },
      "execution_count": 10,
      "outputs": [
        {
          "output_type": "stream",
          "name": "stdout",
          "text": [
            "                      Date  Publisher ID  \\\n",
            "0  2023-10-15 19:21:09.000         11741   \n",
            "1  2023-10-15 19:18:29.000         11741   \n",
            "2  2023-10-15 19:13:17.000         11741   \n",
            "3  2023-10-15 19:01:15.000         11857   \n",
            "4  2023-10-15 19:00:47.000         11741   \n",
            "\n",
            "                                            Campaign  Connected phone  \\\n",
            "0  Carida Insurance - Marketplace - Medicare - WT...      18886591371   \n",
            "1  Carida Insurance - Marketplace - Medicare - WT...      18886591371   \n",
            "2  Carida Insurance - Marketplace - Medicare - WT...      18886591371   \n",
            "3  Carida Insurance - Marketplace - Medicare - WT...      18886591371   \n",
            "4  Carida Insurance - Marketplace - Medicare - WT...      18886591371   \n",
            "\n",
            "                            Offer Call result Disposition  Revenue  \\\n",
            "0  Medicare - OPEX/PMP - Inbounds        Paid       Sales     45.0   \n",
            "1  Medicare - OPEX/PMP - Inbounds    Not Paid         NaN      0.0   \n",
            "2  Medicare - OPEX/PMP - Inbounds    Not Paid         NaN      0.0   \n",
            "3  Medicare - OPEX/PMP - Inbounds        Paid     Pitches     50.0   \n",
            "4  Medicare - OPEX/PMP - Inbounds        Paid       Reset     45.0   \n",
            "\n",
            "     Caller ID                             Call GUID State  \n",
            "0  16626031092  B0441556-0A1A-44FE-A20B-124E81AD716B    MS  \n",
            "1  16626031092  B8169ADF-22AB-4AC4-9393-8C793DA29349    MS  \n",
            "2  13127784519  C4770B07-BA77-419C-ADAB-9C21D315F1FF    IL  \n",
            "3  15802225991  7C6BC35A-6FAE-46C0-94FF-A3CB9723BDB6    OK  \n",
            "4  16183037840  D920AF97-3724-430D-9165-C95064AD4CE9    IL  \n"
          ]
        }
      ]
    },
    {
      "cell_type": "code",
      "source": [
        "print(ringba.head(5))\n"
      ],
      "metadata": {
        "colab": {
          "base_uri": "https://localhost:8080/"
        },
        "id": "ZVDsqL7V98ck",
        "outputId": "a2bca1fc-8f27-4fde-c616-08b6ce51a0bf"
      },
      "execution_count": 8,
      "outputs": [
        {
          "output_type": "stream",
          "name": "stdout",
          "text": [
            "                Call Date   Publisher    Caller ID  Payout\n",
            "0  10/31/2023 06:29:54 PM  PolicyBind  14023261204    45.0\n",
            "1  10/31/2023 06:20:25 PM  PolicyBind  17173417931    45.0\n",
            "2  10/31/2023 06:20:23 PM  PolicyBind  18703319344     NaN\n",
            "3  10/31/2023 05:55:44 PM    Medialot  14403064049    52.0\n",
            "4  10/31/2023 05:46:28 PM    Medialot  15738427699    52.0\n"
          ]
        }
      ]
    },
    {
      "cell_type": "code",
      "source": [
        "print(med.head(5))"
      ],
      "metadata": {
        "colab": {
          "base_uri": "https://localhost:8080/"
        },
        "id": "2aEX753E9q-X",
        "outputId": "1d3ac5a7-a133-45d3-b615-805a83557e23"
      },
      "execution_count": 9,
      "outputs": [
        {
          "output_type": "stream",
          "name": "stdout",
          "text": [
            "                            Call ID        Date      Time  \\\n",
            "0  ce15613ab6661f0bedd58026e56d72ff  2023-10-15  16:36:02   \n",
            "1  c5e9eaeb66080d427770d33946e30102  2023-10-15  16:36:53   \n",
            "2  bba2c3d81609bfa7f597c442fb81a936  2023-10-15  16:37:06   \n",
            "3  4d30a506633eea72a2b363b29bce6f6e  2023-10-15  16:37:52   \n",
            "4  cd2de12aff58e54fa60dacb59483dbd0  2023-10-15  16:38:07   \n",
            "\n",
            "                     Account                                       Campaign  \\\n",
            "0  Carida Insurance Services  Medicare Calls - (Insured) agent availability   \n",
            "1  Carida Insurance Services  Medicare Calls - (Insured) agent availability   \n",
            "2  Carida Insurance Services  Medicare Calls - (Insured) agent availability   \n",
            "3  Carida Insurance Services  Medicare Calls - (Insured) agent availability   \n",
            "4  Carida Insurance Services  Medicare Calls - (Insured) agent availability   \n",
            "\n",
            "  Ad Group Publisher                     Channel  \\\n",
            "0       IL  DigiPeak  Medicare - Calls - Inbound   \n",
            "1       FL  DigiPeak  Medicare - Calls - Inbound   \n",
            "2       AL  DigiPeak  Medicare - Calls - Inbound   \n",
            "3       FL  DigiPeak  Medicare - Calls - Inbound   \n",
            "4       CO  DigiPeak  Medicare - Calls - Inbound   \n",
            "\n",
            "                              Token    Phone Number  ...   Cost Pixel 1  \\\n",
            "0  AAAIQD4UFDZRCTMBXWQCAAMBTY6QD6AV  (XXX) XXX-5298  ...  $0.00       0   \n",
            "1  AAABQN4UGD2BCTMBXWQBWAMBTY6QD374  (XXX) XXX-8605  ...  $0.00       0   \n",
            "2  AAAPAJNDUD2BCTMBXWQBGAMBTY6QDZNR  (XXX) XXX-0187  ...  $0.00       0   \n",
            "3  AAAHQENDSD2BCTMBXWQBWAMBTY6QC4AE  (XXX) XXX-9856  ...  $0.00       0   \n",
            "4  AAAABLU7ED2RCTMBXWQBOAMBTY6QDW7Z  (XXX) XXX-9116  ...  $0.00       0   \n",
            "\n",
            "  Pixel 2  Pixel 3  Pixel 4  Pixel 5  Pixel 6  Pixel 7  Pixel 8  Pixel 9  \n",
            "0       0        0        0        0        0        0        0        0  \n",
            "1       0        0        0        0        0        0        0        0  \n",
            "2       0        0        0        0        0        0        0        0  \n",
            "3       0        0        0        0        0        0        0        0  \n",
            "4       0        0        0        0        0        0        0        0  \n",
            "\n",
            "[5 rows x 22 columns]\n"
          ]
        }
      ]
    },
    {
      "cell_type": "code",
      "source": [
        "print(sales.head(5))\n"
      ],
      "metadata": {
        "colab": {
          "base_uri": "https://localhost:8080/"
        },
        "id": "dDfOwFLU9_yF",
        "outputId": "ca8fc521-8124-4694-ac22-a097aa519ce0"
      },
      "execution_count": 11,
      "outputs": [
        {
          "output_type": "stream",
          "name": "stdout",
          "text": [
            "   Lead ID  Primary Phone     Time Stamp (PST)     Date and Hour Status Name\n",
            "0   728403     7706168561  2023-10-31 17:30:48  2023-10-31 17:00        Sale\n",
            "1   728375     6269694846  2023-10-31 16:54:29  2023-10-31 16:00        Sale\n",
            "2   728371     7045351160  2023-10-31 16:50:54  2023-10-31 16:00        Sale\n",
            "3   728345     3137786027  2023-10-31 16:35:17  2023-10-31 16:00        Sale\n",
            "4   728333     9196632917  2023-10-31 16:18:41  2023-10-31 16:00        Sale\n"
          ]
        }
      ]
    },
    {
      "cell_type": "code",
      "source": [],
      "metadata": {
        "id": "FbaAq4xf-EUg"
      },
      "execution_count": null,
      "outputs": []
    }
  ]
}