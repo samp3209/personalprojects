{
  "nbformat": 4,
  "nbformat_minor": 0,
  "metadata": {
    "colab": {
      "provenance": [],
      "authorship_tag": "ABX9TyNrBUJrEui7kNNkK6I+p37X",
      "include_colab_link": true
    },
    "kernelspec": {
      "name": "python3",
      "display_name": "Python 3"
    },
    "language_info": {
      "name": "python"
    }
  },
  "cells": [
    {
      "cell_type": "markdown",
      "metadata": {
        "id": "view-in-github",
        "colab_type": "text"
      },
      "source": [
        "<a href=\"https://colab.research.google.com/github/samp3209/personalprojects/blob/main/function_approximation.ipynb\" target=\"_parent\"><img src=\"https://colab.research.google.com/assets/colab-badge.svg\" alt=\"Open In Colab\"/></a>"
      ]
    },
    {
      "cell_type": "markdown",
      "source": [
        "https://github.com/MaxRobinsonTheGreat/ManimApproximations/blob/main/approximate.py\n",
        "https://www.youtube.com/watch?v=TkwXa7Cvfr8"
      ],
      "metadata": {
        "id": "0z_MhngOWlvt"
      }
    },
    {
      "cell_type": "code",
      "execution_count": 4,
      "metadata": {
        "id": "XWng5j4pOR_U"
      },
      "outputs": [],
      "source": [
        "import torch\n",
        "from torch import nn, optim\n",
        "import numpy as np\n",
        "import random\n",
        "import math\n",
        "import pandas as pd"
      ]
    },
    {
      "cell_type": "code",
      "source": [
        "# Step 1: Define your target multivariate function\n",
        "def target_function(*args):\n",
        "    return sum(x**2 for x in args)  # Example multivariate function: f(x, y, z) = x^2 + y^2 + z^2\n",
        "\n",
        "# Step 2: Define the function to generate random points in higher dimensions\n",
        "def generate_random_points_multidim(func, n, ranges):\n",
        "    num_dims = len(ranges)\n",
        "\n",
        "    # Create an empty list to store points\n",
        "    points = []\n",
        "\n",
        "    # Generate random points\n",
        "    for _ in range(n):\n",
        "        inputs = [random.uniform(r[0], r[1]) for r in ranges]  # Generate random values for each dimension\n",
        "        output = func(*inputs)  # Compute the function value\n",
        "        points.append(inputs + [output])  # Store the input and output as a list\n",
        "\n",
        "    # Define column names\n",
        "    columns = [f'x{i}' for i in range(1, num_dims + 1)] + ['y']\n",
        "\n",
        "    # Convert the list of points into a DataFrame\n",
        "    df = pd.DataFrame(points, columns=columns)\n",
        "\n",
        "    return df\n",
        "\n",
        "# Step 3: Use the function to generate points and store them in a dataset\n",
        "n = 100  # Number of random points to generate\n",
        "ranges = [(-10, 10), (-5, 5), (-3, 3)]  # Ranges for each dimension, e.g., x, y, z\n",
        "\n",
        "# Generate the points\n",
        "dataset = generate_random_points_multidim(target_function, n, ranges)\n",
        "\n",
        "# Display the dataset\n",
        "print(dataset)"
      ],
      "metadata": {
        "colab": {
          "base_uri": "https://localhost:8080/"
        },
        "id": "Hs6SE4H0O3mS",
        "outputId": "2822613d-5657-4aab-8316-21706ef95b40"
      },
      "execution_count": 6,
      "outputs": [
        {
          "output_type": "stream",
          "name": "stdout",
          "text": [
            "          x1        x2        x3          y\n",
            "0  -6.006478 -2.395105 -1.222416  43.308599\n",
            "1   4.155507  3.723577  1.545442  33.521660\n",
            "2  -0.477347  0.400972 -2.802693   8.243725\n",
            "3  -2.689972 -2.813247 -2.375372  20.792705\n",
            "4  -4.901764  3.122064  0.092848  33.783197\n",
            "..       ...       ...       ...        ...\n",
            "95  4.825901 -0.335528 -1.042076  24.487824\n",
            "96 -9.238499 -1.797004 -1.699703  91.468079\n",
            "97  7.287981 -3.787159  1.165396  68.815386\n",
            "98 -3.644409 -3.997715 -0.304743  29.356315\n",
            "99 -5.248378 -4.860126  2.620531  58.033482\n",
            "\n",
            "[100 rows x 4 columns]\n"
          ]
        }
      ]
    },
    {
      "cell_type": "code",
      "source": [],
      "metadata": {
        "id": "t8wDRF8VRzhY"
      },
      "execution_count": null,
      "outputs": []
    }
  ]
}