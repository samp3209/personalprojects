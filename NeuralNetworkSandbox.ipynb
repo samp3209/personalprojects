{
  "nbformat": 4,
  "nbformat_minor": 0,
  "metadata": {
    "colab": {
      "provenance": [],
      "authorship_tag": "ABX9TyPA+akgRLWIUggIqtr6aqX3",
      "include_colab_link": true
    },
    "kernelspec": {
      "name": "python3",
      "display_name": "Python 3"
    },
    "language_info": {
      "name": "python"
    }
  },
  "cells": [
    {
      "cell_type": "markdown",
      "metadata": {
        "id": "view-in-github",
        "colab_type": "text"
      },
      "source": [
        "<a href=\"https://colab.research.google.com/github/samp3209/personalprojects/blob/main/NeuralNetworkSandbox.ipynb\" target=\"_parent\"><img src=\"https://colab.research.google.com/assets/colab-badge.svg\" alt=\"Open In Colab\"/></a>"
      ]
    },
    {
      "cell_type": "code",
      "execution_count": 1,
      "metadata": {
        "id": "eGZaT-57p3vD"
      },
      "outputs": [],
      "source": [
        "import numpy as np\n",
        "np.random.seed(0)\n",
        "\n",
        "def sigmoid(x):\n",
        "\treturn 1 / (1 + np.exp(-x))\n",
        "\n",
        "def neural_net(W, V, b, c, x):\n",
        "\tz = sigmoid(np.dot(W.T, x.reshape((2,1))) + b.reshape((4, 1)))\n",
        "\ty = sigmoid(np.dot(V.T, z) + c)\n",
        "\treturn y, z\n"
      ]
    },
    {
      "cell_type": "code",
      "source": [
        "\n",
        "W = np.random.uniform(-10, 10, (2,4))\n",
        "V = np.random.uniform(-10, 10, (4, 1))\n",
        "\n",
        "b = np.random.uniform(-10, 10, 4)\n",
        "c = np.random.uniform(-10, 10, 1)\n",
        "\n",
        "x = np.array([1., 2.])\n",
        "y = np.array([1.])\n",
        "\n",
        "print(W)\n",
        "print(V)\n",
        "print(b)\n",
        "print(c)"
      ],
      "metadata": {
        "colab": {
          "base_uri": "https://localhost:8080/"
        },
        "id": "tL71-R_-qthD",
        "outputId": "2a4d5372-15b5-4572-e565-bb1d064ca001"
      },
      "execution_count": 3,
      "outputs": [
        {
          "output_type": "stream",
          "name": "stdout",
          "text": [
            "[[ 6.65239691  5.56313502  7.40024296  9.57236684]\n",
            " [ 5.98317128 -0.77041275  5.61058353 -7.63451148]]\n",
            "[[ 2.79842043]\n",
            " [-7.13293425]\n",
            " [ 8.89337834]\n",
            " [ 0.43696644]]\n",
            "[-1.7067612  -4.70888776  5.48467379 -0.87699336]\n",
            "[1.36867898]\n"
          ]
        }
      ]
    },
    {
      "cell_type": "code",
      "source": [
        "print(neural_net(W, V, b, c, x)[0])\n",
        "\n",
        "def BCE_loss(W, V, b, c, x, y):\n",
        "\ty_hat, z = neural_net(W, V, b, c, x)\n",
        "\treturn -y * np.log(y_hat) - (1 - y) * np.log(1 - y_hat)\n",
        "\n",
        "y_pred, z =neural_net(W, V, b, c, x)\n",
        "\n",
        "def grad_w():\n",
        "\tg1 = (y-2*y*y_pred+y_pred)*V   # 4x1\n",
        "\tprint(g1.shape)\n",
        "\tg2 = z*(1-z)\t\t\t\t\t# 4x1\n",
        "\tprint(g2.shape)\n",
        "\tg3 = x.reshape((2,1))\t\t\t\t\t\t\t# 2x1\n",
        "\treturn (g1*g2).dot(g3.T)\n",
        "\n",
        "print(-grad_w())"
      ],
      "metadata": {
        "colab": {
          "base_uri": "https://localhost:8080/"
        },
        "id": "JdbgWel0quQk",
        "outputId": "aa8a9ee2-3241-4f1a-d3f9-fcd13e3ab074"
      },
      "execution_count": 4,
      "outputs": [
        {
          "output_type": "stream",
          "name": "stdout",
          "text": [
            "[[0.99997684]]\n",
            "(4, 1)\n",
            "(4, 1)\n",
            "[[-2.93015744e-12 -5.86031488e-12]\n",
            " [ 3.67925057e-05  7.35850115e-05]\n",
            " [-6.99335472e-15 -1.39867094e-14]\n",
            " [-1.40959048e-08 -2.81918096e-08]]\n"
          ]
        }
      ]
    },
    {
      "cell_type": "code",
      "source": [],
      "metadata": {
        "id": "hWvTnt3_rUpy"
      },
      "execution_count": null,
      "outputs": []
    },
    {
      "cell_type": "markdown",
      "source": [
        "Second set of code"
      ],
      "metadata": {
        "id": "KVI2m5aSrXE7"
      }
    },
    {
      "cell_type": "code",
      "source": [
        "import numpy as np\n",
        "np.random.seed(0)\n",
        "import torch\n",
        "import torch.nn as nn\n",
        "\n",
        "W = np.random.uniform(-10, 10, (2, 4))\n",
        "V = np.random.uniform(-10, 10, (4, 1))\n",
        "\n",
        "b = np.random.uniform(-10, 10, 4)\n",
        "c = np.random.uniform(-10, 10, 1)\n",
        "\n",
        "class neural_net(nn.Module):\n",
        "\tdef __init__(self):\n",
        "\t\tsuper(neural_net, self).__init__()\n",
        "\t\tself.fc1 = nn.Linear(2, 4)\n",
        "\t\tself.fc1.weight.data = torch.tensor(W.T, dtype=torch.float)\n",
        "\t\tself.fc1.bias.data = torch.tensor(b, dtype=torch.float)\n",
        "\t\tself.fc2 = nn.Linear(4, 1)\n",
        "\t\tself.fc2.weight.data = torch.tensor(V.T, dtype=torch.float)\n",
        "\t\tself.fc2.bias.data = torch.tensor(c, dtype=torch.float)\n",
        "\n",
        "\n",
        "\tdef forward(self, x):\n",
        "\t\tx = torch.sigmoid(self.fc1(x))\n",
        "\t\tx = torch.sigmoid(self.fc2(x))\n",
        "\t\treturn x\n",
        "\n",
        "\n",
        "x = torch.tensor([1., 2.])\n",
        "y = torch.tensor([1.])\n",
        "\n",
        "net = neural_net()\n",
        "criterion = nn.BCELoss()\n",
        "\n",
        "y_pred = net(x)\n",
        "loss = criterion(y_pred, y)\n",
        "\n",
        "loss.backward()\n",
        "\n",
        "print(net.fc1.weight.grad)\n"
      ],
      "metadata": {
        "colab": {
          "base_uri": "https://localhost:8080/"
        },
        "id": "h2Ck73FGrY-D",
        "outputId": "53965c5e-ff00-4626-d6ad-c789c319a8e6"
      },
      "execution_count": 5,
      "outputs": [
        {
          "output_type": "stream",
          "name": "stdout",
          "text": [
            "tensor([[-2.0439e+00, -4.0878e+00],\n",
            "        [ 0.0000e+00,  0.0000e+00],\n",
            "        [-7.0506e-04, -1.4101e-03],\n",
            "        [-1.4195e-04, -2.8390e-04]])\n"
          ]
        }
      ]
    },
    {
      "cell_type": "markdown",
      "source": [
        "Class coding"
      ],
      "metadata": {
        "id": "A9KxREuU4PWa"
      }
    },
    {
      "cell_type": "code",
      "source": [
        "np.random.seed(0)\n",
        "\n",
        "def sigmoid(x):\n",
        "\treturn 1 / (1 + np.exp(-x))\n",
        "\n",
        "def f(W, V, b, c, x):\n",
        "  z = sigmoid(W.dot(x)+b)\n",
        "  return sigmoid(V.dot(z) + c), z\n",
        "  #shape is 4 x 2 because we have 4 neurons and 2 inputs.\n",
        "\n",
        "W = np.random.uniform(-10, 10, (4, 2))\n",
        "V = np.random.uniform(-10, 10, (1, 4))\n",
        "b = np.random.uniform(-10, 10, (4, 1)) # W is shape of 4 x 2 X is 2 x 1 W dot x = 4 x 1\n",
        "c = np.random.uniform(-10, 10)\n",
        "\n",
        "x = np.array([[-1], [4]])\n",
        "y = np.array([1])\n",
        "\n",
        "#print(f(W, V, b, c, x))\n",
        "\n",
        "\n",
        "def grad_w(W, V, b, c, x, y):\n",
        "  y_hat, z = f(W, V, b, c, x)\n",
        "  g1 = (y - y_hat)*V.T #1x4 we need to transpose so we add the .T\n",
        "  g2 = z*(1-z) #4x1\n",
        "  g3 = x #2x1\n",
        "  # Because our x input is 4x2 we want our gradient to also have this shape\n",
        "  return (g1*g2).dot(g3.T)\n",
        "\n",
        "print(grad_w(W, V, b, c, x, y))\n",
        "print(W)"
      ],
      "metadata": {
        "colab": {
          "base_uri": "https://localhost:8080/"
        },
        "id": "J7bEYT_9rgGG",
        "outputId": "a461f1e1-918f-4077-f946-f9d4364ff244"
      },
      "execution_count": 27,
      "outputs": [
        {
          "output_type": "stream",
          "name": "stdout",
          "text": [
            "[[-2.42947464e-06  9.71789858e-06]\n",
            " [ 2.85576827e-11 -1.14230731e-10]\n",
            " [-2.20175839e-01  8.80703356e-01]\n",
            " [-3.41070169e-17  1.36428068e-16]]\n",
            "[[ 6.65239691  5.56313502]\n",
            " [ 7.40024296  9.57236684]\n",
            " [ 5.98317128 -0.77041275]\n",
            " [ 5.61058353 -7.63451148]]\n"
          ]
        }
      ]
    },
    {
      "cell_type": "code",
      "source": [
        "W = np.random.uniform(-10, 10, (4, 2))\n",
        "V = np.random.uniform(-10, 10, (1, 4))\n",
        "\n",
        "b = np.random.uniform(-10, 10, 4)\n",
        "c = np.random.uniform(-10, 10, 1)\n",
        "#Doing this same code in PyTorch\n",
        "class Net(nn.Module):\n",
        "  def __init__(self):\n",
        "    super(Net, self).__init__()\n",
        "    self.fc1 = nn.Linear(2, 4)\n",
        "    self.fc1.weight.data = torch.tensor(W, dtype = torch.float)\n",
        "    self.fc1.bias.data = torch.tensor(b, dtype = torch.float)\n",
        "    self.fc2 = nn.Linear(4, 1)\n",
        "    self.fc2.weight.data = torch.tensor(V, dtype = torch.float)\n",
        "    self.fc2.bias.data = torch.tensor(c, dtype = torch.float)\n",
        "\n",
        "  def forward(self, x):\n",
        "    x = torch.sigmoid(self.fc1(x))\n",
        "    x = torch.sigmoid(self.fc2(x))\n",
        "    return x\n",
        "\n",
        "loss = nn.BCELoss()\n",
        "net = Net()\n",
        "x = torch.tensor([[-1.0, 4.0]])\n",
        "y = torch.tensor([1.0])\n",
        "y_pred = net(x)\n",
        "loss = loss(y_pred, y)\n",
        "loss.backward()\n",
        "print(net.fc1.weight.grad)\n"
      ],
      "metadata": {
        "colab": {
          "base_uri": "https://localhost:8080/",
          "height": 211
        },
        "id": "J8u-_V4n9tpz",
        "outputId": "f3591900-756c-4f67-94bc-e5147dc36c95"
      },
      "execution_count": 1,
      "outputs": [
        {
          "output_type": "error",
          "ename": "NameError",
          "evalue": "name 'np' is not defined",
          "traceback": [
            "\u001b[0;31m---------------------------------------------------------------------------\u001b[0m",
            "\u001b[0;31mNameError\u001b[0m                                 Traceback (most recent call last)",
            "\u001b[0;32m<ipython-input-1-6a00d257ea3b>\u001b[0m in \u001b[0;36m<cell line: 1>\u001b[0;34m()\u001b[0m\n\u001b[0;32m----> 1\u001b[0;31m \u001b[0mW\u001b[0m \u001b[0;34m=\u001b[0m \u001b[0mnp\u001b[0m\u001b[0;34m.\u001b[0m\u001b[0mrandom\u001b[0m\u001b[0;34m.\u001b[0m\u001b[0muniform\u001b[0m\u001b[0;34m(\u001b[0m\u001b[0;34m-\u001b[0m\u001b[0;36m10\u001b[0m\u001b[0;34m,\u001b[0m \u001b[0;36m10\u001b[0m\u001b[0;34m,\u001b[0m \u001b[0;34m(\u001b[0m\u001b[0;36m4\u001b[0m\u001b[0;34m,\u001b[0m \u001b[0;36m2\u001b[0m\u001b[0;34m)\u001b[0m\u001b[0;34m)\u001b[0m\u001b[0;34m\u001b[0m\u001b[0;34m\u001b[0m\u001b[0m\n\u001b[0m\u001b[1;32m      2\u001b[0m \u001b[0mV\u001b[0m \u001b[0;34m=\u001b[0m \u001b[0mnp\u001b[0m\u001b[0;34m.\u001b[0m\u001b[0mrandom\u001b[0m\u001b[0;34m.\u001b[0m\u001b[0muniform\u001b[0m\u001b[0;34m(\u001b[0m\u001b[0;34m-\u001b[0m\u001b[0;36m10\u001b[0m\u001b[0;34m,\u001b[0m \u001b[0;36m10\u001b[0m\u001b[0;34m,\u001b[0m \u001b[0;34m(\u001b[0m\u001b[0;36m1\u001b[0m\u001b[0;34m,\u001b[0m \u001b[0;36m4\u001b[0m\u001b[0;34m)\u001b[0m\u001b[0;34m)\u001b[0m\u001b[0;34m\u001b[0m\u001b[0;34m\u001b[0m\u001b[0m\n\u001b[1;32m      3\u001b[0m \u001b[0;34m\u001b[0m\u001b[0m\n\u001b[1;32m      4\u001b[0m \u001b[0mb\u001b[0m \u001b[0;34m=\u001b[0m \u001b[0mnp\u001b[0m\u001b[0;34m.\u001b[0m\u001b[0mrandom\u001b[0m\u001b[0;34m.\u001b[0m\u001b[0muniform\u001b[0m\u001b[0;34m(\u001b[0m\u001b[0;34m-\u001b[0m\u001b[0;36m10\u001b[0m\u001b[0;34m,\u001b[0m \u001b[0;36m10\u001b[0m\u001b[0;34m,\u001b[0m \u001b[0;36m4\u001b[0m\u001b[0;34m)\u001b[0m\u001b[0;34m\u001b[0m\u001b[0;34m\u001b[0m\u001b[0m\n\u001b[1;32m      5\u001b[0m \u001b[0mc\u001b[0m \u001b[0;34m=\u001b[0m \u001b[0mnp\u001b[0m\u001b[0;34m.\u001b[0m\u001b[0mrandom\u001b[0m\u001b[0;34m.\u001b[0m\u001b[0muniform\u001b[0m\u001b[0;34m(\u001b[0m\u001b[0;34m-\u001b[0m\u001b[0;36m10\u001b[0m\u001b[0;34m,\u001b[0m \u001b[0;36m10\u001b[0m\u001b[0;34m,\u001b[0m \u001b[0;36m1\u001b[0m\u001b[0;34m)\u001b[0m\u001b[0;34m\u001b[0m\u001b[0;34m\u001b[0m\u001b[0m\n",
            "\u001b[0;31mNameError\u001b[0m: name 'np' is not defined"
          ]
        }
      ]
    },
    {
      "cell_type": "code",
      "source": [],
      "metadata": {
        "id": "An3daBlNE6Cf"
      },
      "execution_count": null,
      "outputs": []
    }
  ]
}