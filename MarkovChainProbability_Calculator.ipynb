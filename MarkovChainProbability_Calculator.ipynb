{
  "nbformat": 4,
  "nbformat_minor": 0,
  "metadata": {
    "colab": {
      "provenance": [],
      "authorship_tag": "ABX9TyM1kMSMKOKB80goPZf8L43o",
      "include_colab_link": true
    },
    "kernelspec": {
      "name": "python3",
      "display_name": "Python 3"
    },
    "language_info": {
      "name": "python"
    }
  },
  "cells": [
    {
      "cell_type": "markdown",
      "metadata": {
        "id": "view-in-github",
        "colab_type": "text"
      },
      "source": [
        "<a href=\"https://colab.research.google.com/github/samp3209/personalprojects/blob/main/MarkovChainProbability_Calculator.ipynb\" target=\"_parent\"><img src=\"https://colab.research.google.com/assets/colab-badge.svg\" alt=\"Open In Colab\"/></a>"
      ]
    },
    {
      "cell_type": "code",
      "execution_count": 1,
      "metadata": {
        "id": "GLpouI_EQ2hX"
      },
      "outputs": [],
      "source": [
        "import numpy as np\n",
        "import math\n",
        "t = 0\n",
        "current_answer = np.matrix([0.7, 0.2, 0.1])\n",
        "transition = np.matrix([[0.0, 0.6, 0.4],\n",
        "                        [0.7, 0.3, 0.0],\n",
        "                        [0.2, 0.8, 0.0]])\n",
        "tolerance = 1e-10"
      ]
    },
    {
      "cell_type": "code",
      "source": [
        "t1 = current_answer.dot(transition)\n",
        "t1 /= np.sum(t1)\n",
        "print(t1)"
      ],
      "metadata": {
        "colab": {
          "base_uri": "https://localhost:8080/"
        },
        "id": "AMdHo5IbV9Uy",
        "outputId": "e2c9a61d-45bd-4104-cd5e-8fc5942294d9"
      },
      "execution_count": 52,
      "outputs": [
        {
          "output_type": "stream",
          "name": "stdout",
          "text": [
            "[[0.16 0.56 0.28]]\n"
          ]
        }
      ]
    },
    {
      "cell_type": "code",
      "source": [
        "t2 = t1.dot(transition)\n",
        "print(t2)"
      ],
      "metadata": {
        "colab": {
          "base_uri": "https://localhost:8080/"
        },
        "id": "hU4sPdlzXbh2",
        "outputId": "eae67a25-7572-47bf-8cf3-9cfa21bbf738"
      },
      "execution_count": 53,
      "outputs": [
        {
          "output_type": "stream",
          "name": "stdout",
          "text": [
            "[[0.448 0.488 0.064]]\n"
          ]
        }
      ]
    },
    {
      "cell_type": "code",
      "source": [
        "def recursion_mark(current_answer, transition, tolerance, i):\n",
        "  next = current_answer.dot(transition)\n",
        "  next /= np.sum(next)\n",
        "  if np.allclose(current_answer, next, atol=tolerance):\n",
        "    return next, i\n",
        "  else:\n",
        "    return recursion_mark(next, transition, tolerance, i+1)\n",
        "\n",
        "recursion_mark(current_answer, transition, tolerance, t)\n"
      ],
      "metadata": {
        "colab": {
          "base_uri": "https://localhost:8080/"
        },
        "id": "-GAGj3U6S47-",
        "outputId": "07a3cea8-d15f-4efb-a8a4-f6323509e19c"
      },
      "execution_count": 65,
      "outputs": [
        {
          "output_type": "execute_result",
          "data": {
            "text/plain": [
              "(matrix([[0.36842113, 0.48421038, 0.1473685 ]]), 17)"
            ]
          },
          "metadata": {},
          "execution_count": 65
        }
      ]
    },
    {
      "cell_type": "code",
      "source": [],
      "metadata": {
        "id": "rnAF6geUUT4D"
      },
      "execution_count": null,
      "outputs": []
    }
  ]
}